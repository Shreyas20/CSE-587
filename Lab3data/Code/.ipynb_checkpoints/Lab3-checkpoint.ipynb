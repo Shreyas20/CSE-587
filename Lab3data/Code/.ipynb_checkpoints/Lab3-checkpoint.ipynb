{
 "cells": [
  {
   "cell_type": "markdown",
   "metadata": {},
   "source": [
    "## Titanic Data Analysis\n",
    "### Shreyas Kulkarni-sk385\n",
    "### Soham Gupte- sohamgup"
   ]
  },
  {
   "cell_type": "markdown",
   "metadata": {},
   "source": [
    "### Reading and cleaning data"
   ]
  },
  {
   "cell_type": "code",
   "execution_count": 25,
   "metadata": {
    "scrolled": true
   },
   "outputs": [],
   "source": [
    "from pyspark.context import SparkContext\n",
    "from pyspark.sql.session import SparkSession\n",
    "from pyspark.sql import SQLContext\n",
    "sc.stop()\n",
    "sc = SparkContext('local')\n",
    "sqlContext = SQLContext(sc)\n",
    "spark = SparkSession(sc)\n",
    "from pyspark.ml.feature import HashingTF, IDF, Tokenizer\n",
    "line=sc.wholeTextFiles(\"/home/shreyas/Lab3data/sparkdata\")\n",
    "from pyspark.ml.feature import StopWordsRemover\n",
    "from pyspark.sql import Row\n",
    "from pyspark.ml.feature import Tokenizer, RegexTokenizer\n",
    "from pyspark.sql.functions import col, udf\n",
    "from pyspark.sql.types import IntegerType\n",
    "import re\n",
    "a=line.collect()\n",
    "for i in range(len(a)):\n",
    "    a[i]=list(a[i])\n",
    "    a[i][0]=re.sub(r'\\d+', '',a[i][0])\n",
    "    a[i]=tuple(a[i])\n",
    "rdd = sc.parallelize(a)\n",
    "people = rdd.map(lambda x: Row(label=x[0], sentence=(x[1])))\n",
    "schemaPeople = sqlContext.createDataFrame(people)\n",
    "regexTokenizer = RegexTokenizer(inputCol=\"sentence\", outputCol=\"words\", pattern=\"\\\\W\")\n",
    "\n",
    "regexTokenized = regexTokenizer.transform(schemaPeople)\n",
    "#regexTokenized.show(2)"
   ]
  },
  {
   "cell_type": "markdown",
   "metadata": {},
   "source": [
    "#### Data is read using wholeTextFiles. This function can be used to read all the files present in the given directory. It returns a list of tuples. Each tuple contains address of file and data. Data is cleaned and seperated by tokenizer. Stopwords, digits and symbols are removed. "
   ]
  },
  {
   "cell_type": "code",
   "execution_count": 26,
   "metadata": {},
   "outputs": [
    {
     "name": "stdout",
     "output_type": "stream",
     "text": [
      "+--------------------+--------------------+--------------------+--------------------+--------------------+--------------------+\n",
      "|               label|            sentence|               words|            filtered|         rawFeatures|            features|\n",
      "+--------------------+--------------------+--------------------+--------------------+--------------------+--------------------+\n",
      "|file:/home/shreya...|AdvertisementSupp...|[advertisementsup...|[advertisementsup...|(20,[0,1,2,3,4,5,...|(20,[0,1,2,3,4,5,...|\n",
      "|file:/home/shreya...|AdvertisementBy M...|[advertisementby,...|[advertisementby,...|(20,[0,1,2,3,4,5,...|(20,[0,1,2,3,4,5,...|\n",
      "|file:/home/shreya...|AdvertisementSupp...|[advertisementsup...|[advertisementsup...|(20,[0,1,2,3,4,5,...|(20,[0,1,2,3,4,5,...|\n",
      "|file:/home/shreya...|AdvertisementWith...|[advertisementwit...|[advertisementwit...|(20,[0,1,2,3,4,5,...|(20,[0,1,2,3,4,5,...|\n",
      "|file:/home/shreya...|AdvertisementSupp...|[advertisementsup...|[advertisementsup...|(20,[0,1,2,3,4,5,...|(20,[0,1,2,3,4,5,...|\n",
      "|file:/home/shreya...|AdvertisementSupp...|[advertisementsup...|[advertisementsup...|(20,[0,1,2,3,4,5,...|(20,[0,1,2,3,4,5,...|\n",
      "|file:/home/shreya...|AdvertisementSupp...|[advertisementsup...|[advertisementsup...|(20,[0,1,2,3,4,5,...|(20,[0,1,2,3,4,5,...|\n",
      "|file:/home/shreya...|AdvertisementSupp...|[advertisementsup...|[advertisementsup...|(20,[0,1,2,3,4,5,...|(20,[0,1,2,3,4,5,...|\n",
      "|file:/home/shreya...|Advertisement\n",
      "\n",
      "  ...|[advertisement, b...|[advertisement, m...|(20,[0,1,2,3,4,5,...|(20,[0,1,2,3,4,5,...|\n",
      "|file:/home/shreya...|PAID FOR AND POST...|[paid, for, and, ...|[paid, posted, mi...|(20,[0,1,2,3,4,5,...|(20,[0,1,2,3,4,5,...|\n",
      "+--------------------+--------------------+--------------------+--------------------+--------------------+--------------------+\n",
      "only showing top 10 rows\n",
      "\n"
     ]
    }
   ],
   "source": [
    "\n",
    "remover = StopWordsRemover(inputCol=\"words\", outputCol=\"filtered\")\n",
    "sw=remover.transform(regexTokenized)\n",
    "\n",
    "\n",
    "# tokenizer = Tokenizer(inputCol=\"sentence\", outputCol=\"words\")\n",
    "# wordsData = tokenizer.transform(sentenceData)\n",
    "\n",
    "hashingTF = HashingTF(inputCol=\"filtered\", outputCol=\"rawFeatures\", numFeatures=20)\n",
    "featurizedData = hashingTF.transform(sw)\n",
    "# alternatively, CountVectorizer can also be used to get term frequency vectors\n",
    "\n",
    "idf = IDF(inputCol=\"rawFeatures\", outputCol=\"features\")\n",
    "idfModel = idf.fit(featurizedData)\n",
    "rescaledData = idfModel.transform(featurizedData)\n",
    "rescaledData.show(10)\n",
    "\n"
   ]
  },
  {
   "cell_type": "markdown",
   "metadata": {},
   "source": [
    "#### TF-IDF is applied on the clean data which helps to get features for the words present in the file. It returns importance of every word."
   ]
  },
  {
   "cell_type": "code",
   "execution_count": 27,
   "metadata": {},
   "outputs": [
    {
     "name": "stdout",
     "output_type": "stream",
     "text": [
      "+--------------------+--------------------+\n",
      "|               label|            features|\n",
      "+--------------------+--------------------+\n",
      "|file:/home/shreya...|(20,[0,1,2,3,4,5,...|\n",
      "|file:/home/shreya...|(20,[0,1,2,3,4,5,...|\n",
      "+--------------------+--------------------+\n",
      "only showing top 2 rows\n",
      "\n"
     ]
    }
   ],
   "source": [
    "from pyspark.sql.functions import UserDefinedFunction\n",
    "import re\n",
    "from pyspark.sql.types import *\n",
    "name='label'\n",
    "# udf = UserDefinedFunction(lambda x: re.sub('file:/home/shreyas/Lab3data/try/','',str(x)), StringType())\n",
    "# new_df = rescaledData.select(*[udf(column).alias(name) if column == name else column for column in rescaledData.columns])\n",
    "udf = UserDefinedFunction(lambda x: re.sub('.txt','',str(x)), StringType())\n",
    "new_df = rescaledData.select(*[udf(column).alias(name) if column == name else column for column in rescaledData.columns])\n",
    "\n",
    "udf1 = UserDefinedFunction(lambda x: re.sub('file:/home/shreyas/sparkdata/','',str(x)), StringType())\n",
    "re = new_df.select(*[udf1(column).alias(name) if column == name else column for column in new_df.columns])\n",
    "\n",
    "re.select(\"label\",\"features\").show(2)\n",
    "final=re.select(\"label\",\"features\")"
   ]
  },
  {
   "cell_type": "markdown",
   "metadata": {},
   "source": [
    "#### The filename returned by wholeTextFile is used as label. It returns the absolute address of file. So the absolute address is removed and only label part is kept.(We have saved files with the labelname.txt)"
   ]
  },
  {
   "cell_type": "markdown",
   "metadata": {},
   "source": [
    "## Divide data in train and test set\n",
    "\n",
    "###### Cleaned data is divided into train and test set by the ratio of 4:1\n",
    "\n",
    "## Convert string labels to integer\n",
    "\n",
    "##### Every label has been assigned by a integer. "
   ]
  },
  {
   "cell_type": "code",
   "execution_count": 28,
   "metadata": {},
   "outputs": [
    {
     "name": "stdout",
     "output_type": "stream",
     "text": [
      "+--------------------+--------------------+-------------+\n",
      "|               label|            features|categoryIndex|\n",
      "+--------------------+--------------------+-------------+\n",
      "|file:/home/shreya...|(20,[0,1,2,3,4,5,...|          0.0|\n",
      "|file:/home/shreya...|(20,[0,1,2,3,4,5,...|          0.0|\n",
      "|file:/home/shreya...|(20,[0,1,2,3,4,5,...|          1.0|\n",
      "|file:/home/shreya...|(20,[0,1,2,3,4,5,...|          1.0|\n",
      "|file:/home/shreya...|(20,[0,1,2,3,4,5,...|          1.0|\n",
      "|file:/home/shreya...|(20,[0,1,2,3,4,5,...|          1.0|\n",
      "|file:/home/shreya...|(20,[0,1,2,3,4,5,...|          0.0|\n",
      "|file:/home/shreya...|(20,[0,1,2,3,4,5,...|          3.0|\n",
      "|file:/home/shreya...|(20,[0,1,2,3,4,5,...|          0.0|\n",
      "|file:/home/shreya...|(20,[0,1,2,3,4,5,...|          1.0|\n",
      "|file:/home/shreya...|(20,[0,1,2,3,4,5,...|          0.0|\n",
      "|file:/home/shreya...|(20,[0,1,2,3,4,5,...|          0.0|\n",
      "|file:/home/shreya...|(20,[0,1,2,3,4,5,...|          2.0|\n",
      "|file:/home/shreya...|(20,[0,1,2,3,4,5,...|          0.0|\n",
      "|file:/home/shreya...|(20,[0,1,2,3,4,5,...|          3.0|\n",
      "|file:/home/shreya...|(20,[0,1,2,3,4,5,...|          1.0|\n",
      "|file:/home/shreya...|(20,[0,1,2,3,4,5,...|          0.0|\n",
      "|file:/home/shreya...|(20,[0,1,2,3,4,5,...|          0.0|\n",
      "|file:/home/shreya...|(20,[0,1,2,3,4,5,...|          0.0|\n",
      "|file:/home/shreya...|(20,[0,1,2,3,4,5,...|          0.0|\n",
      "+--------------------+--------------------+-------------+\n",
      "only showing top 20 rows\n",
      "\n"
     ]
    }
   ],
   "source": [
    "from pyspark.ml import Pipeline\n",
    "from pyspark.ml.classification import DecisionTreeClassifier\n",
    "from pyspark.ml.evaluation import MulticlassClassificationEvaluator\n",
    "from pyspark.ml.feature import IndexToString, StringIndexer, VectorIndexer\n",
    "\n",
    "indexer = StringIndexer(inputCol=\"label\", outputCol=\"categoryIndex\")\n",
    "indexed = indexer.fit(final).transform(final)\n",
    "indexed.show()\n",
    "\n",
    "\n",
    "# Fit on whole dataset to include all labels in index.\n",
    "featureIndexer =\\\n",
    "    VectorIndexer(inputCol=\"features\", outputCol=\"indexedFeatures\", maxCategories=4).fit(indexed)\n",
    "\n",
    "# Split the data into training and test sets (30% held out for testing)\n",
    "(train, test) = indexed.randomSplit([0.8, 0.2])\n"
   ]
  },
  {
   "cell_type": "markdown",
   "metadata": {},
   "source": [
    "### Logistic regression using pipelining"
   ]
  },
  {
   "cell_type": "code",
   "execution_count": 29,
   "metadata": {
    "scrolled": false
   },
   "outputs": [
    {
     "name": "stdout",
     "output_type": "stream",
     "text": [
      "+--------------------+--------------------+-------------+\n",
      "|               label|            features|categoryIndex|\n",
      "+--------------------+--------------------+-------------+\n",
      "|file:/home/shreya...|(20,[0,1,2,3,4,5,...|          0.0|\n",
      "|file:/home/shreya...|(20,[0,1,2,3,4,5,...|          0.0|\n",
      "|file:/home/shreya...|(20,[0,1,2,3,4,5,...|          1.0|\n",
      "|file:/home/shreya...|(20,[0,1,2,3,4,5,...|          1.0|\n",
      "|file:/home/shreya...|(20,[0,1,2,3,4,5,...|          1.0|\n",
      "|file:/home/shreya...|(20,[0,1,2,3,4,5,...|          1.0|\n",
      "|file:/home/shreya...|(20,[0,1,2,3,4,5,...|          0.0|\n",
      "|file:/home/shreya...|(20,[0,1,2,3,4,5,...|          3.0|\n",
      "|file:/home/shreya...|(20,[0,1,2,3,4,5,...|          0.0|\n",
      "|file:/home/shreya...|(20,[0,1,2,3,4,5,...|          1.0|\n",
      "|file:/home/shreya...|(20,[0,1,2,3,4,5,...|          0.0|\n",
      "|file:/home/shreya...|(20,[0,1,2,3,4,5,...|          0.0|\n",
      "|file:/home/shreya...|(20,[0,1,2,3,4,5,...|          2.0|\n",
      "|file:/home/shreya...|(20,[0,1,2,3,4,5,...|          0.0|\n",
      "|file:/home/shreya...|(20,[0,1,2,3,4,5,...|          3.0|\n",
      "|file:/home/shreya...|(20,[0,1,2,3,4,5,...|          1.0|\n",
      "|file:/home/shreya...|(20,[0,1,2,3,4,5,...|          0.0|\n",
      "|file:/home/shreya...|(20,[0,1,2,3,4,5,...|          0.0|\n",
      "|file:/home/shreya...|(20,[0,1,2,3,4,5,...|          0.0|\n",
      "|file:/home/shreya...|(20,[0,1,2,3,4,5,...|          0.0|\n",
      "+--------------------+--------------------+-------------+\n",
      "only showing top 20 rows\n",
      "\n",
      "Coefficients: \n",
      "DenseMatrix([[-0.3473359 ,  0.20949421, -0.27760188, -0.80409039, -0.40209088,\n",
      "              -0.12405122, -0.40076927, -0.49190892,  1.6708922 , -0.4389222 ,\n",
      "              -0.26407422, -0.56168981,  2.06283318,  0.14943176, -0.01259907,\n",
      "              -0.45540299, -0.23345599, -0.01767226, -0.50192939, -0.14171047],\n",
      "             [ 0.17347458, -0.12164188,  0.20168672, -0.01801051,  0.30742952,\n",
      "               0.12265049,  0.50294037,  0.43199357, -0.93942922,  0.24742051,\n",
      "               0.15805256,  0.42656364, -1.17604956, -0.08134309,  0.02550806,\n",
      "               0.15808901,  0.27924262, -0.11129941,  0.12828597, -0.21144876],\n",
      "             [ 0.01046021, -0.00782816,  0.04787543,  0.69487174,  0.01388262,\n",
      "              -0.01460443, -0.13051018, -0.08952909, -0.59010134,  0.11243263,\n",
      "               0.15735038, -0.02987436, -0.61980185, -0.00703298,  0.07351252,\n",
      "               0.19748996, -0.10292126,  0.30795082,  0.18860522,  0.27723926],\n",
      "             [ 0.16340111, -0.08002417,  0.02803972,  0.12722916,  0.08077874,\n",
      "               0.01600516,  0.02833908,  0.14944444, -0.14136163,  0.07906906,\n",
      "              -0.05132873,  0.16500054, -0.26698177, -0.06105568, -0.08642151,\n",
      "               0.09982402,  0.05713462, -0.17897915,  0.1850382 ,  0.07591997]])\n",
      "Intercept: [1.15142946805,-0.00930846508742,-0.156753437928,-0.985367565037]\n",
      "+----------+--------------------+--------------------+\n",
      "|prediction|            features|      predictedLabel|\n",
      "+----------+--------------------+--------------------+\n",
      "|       0.0|(20,[0,1,2,3,4,5,...|file:/home/shreya...|\n",
      "|       0.0|(20,[0,1,2,3,4,5,...|file:/home/shreya...|\n",
      "|       0.0|(20,[0,1,2,3,4,5,...|file:/home/shreya...|\n",
      "|       0.0|(20,[0,1,2,3,4,5,...|file:/home/shreya...|\n",
      "|       0.0|(20,[0,1,2,3,4,5,...|file:/home/shreya...|\n",
      "|       0.0|(20,[0,1,2,3,4,5,...|file:/home/shreya...|\n",
      "|       0.0|(20,[0,1,2,3,4,5,...|file:/home/shreya...|\n",
      "|       0.0|(20,[0,1,2,3,4,5,...|file:/home/shreya...|\n",
      "|       0.0|(20,[0,1,2,3,4,5,...|file:/home/shreya...|\n",
      "|       0.0|(20,[0,1,2,3,4,5,...|file:/home/shreya...|\n",
      "+----------+--------------------+--------------------+\n",
      "only showing top 10 rows\n",
      "\n",
      "Test Error = 0.522388 \n"
     ]
    }
   ],
   "source": [
    "from pyspark.ml.feature import StringIndexer\n",
    "from pyspark.ml.classification import LogisticRegression\n",
    "\n",
    "indexed.show()\n",
    "lr = LogisticRegression(labelCol=\"categoryIndex\", featuresCol=\"features\", maxIter=10)\n",
    "\n",
    "# Train model with Training Data\n",
    "lrModel = lr.fit(train)\n",
    "print(\"Coefficients: \\n\" + str(lrModel.coefficientMatrix))\n",
    "print(\"Intercept: \" + str(lrModel.interceptVector))\n",
    "\n",
    "\n",
    "# Convert indexed labels back to original labels.\n",
    "labelConverter = IndexToString(inputCol=\"prediction\", outputCol=\"predictedLabel\",\n",
    "                               labels=labelIndexer.labels)\n",
    "\n",
    "# Chain indexers and forest in a Pipeline\n",
    "pipelinelr = Pipeline(stages=[labelIndexer, featureIndexer, lr, labelConverter])\n",
    "\n",
    "# Train model.  This also runs the indexers.\n",
    "lrModel = pipelinelr.fit(train)\n",
    "\n",
    "\n",
    "predictions =lrModel.transform(test)\n",
    "\n",
    "\n",
    "# Select example rows to display.\n",
    "predictions.select(\"prediction\", \"features\",\"predictedLabel\").show(10)\n",
    "\n",
    "# Select (prediction, true label) and compute test error\n",
    "evaluator = MulticlassClassificationEvaluator(\n",
    "    labelCol=\"categoryIndex\", predictionCol=\"prediction\", metricName=\"accuracy\")\n",
    "accuracy = evaluator.evaluate(predictions)\n",
    "print(\"Test Error = %g \" % (1.0 - accuracy))\n",
    "\n"
   ]
  },
  {
   "cell_type": "markdown",
   "metadata": {},
   "source": [
    "### Random Forest"
   ]
  },
  {
   "cell_type": "code",
   "execution_count": 30,
   "metadata": {},
   "outputs": [
    {
     "name": "stdout",
     "output_type": "stream",
     "text": [
      "+--------------------+--------------------+--------------------+\n",
      "|      predictedLabel|               label|            features|\n",
      "+--------------------+--------------------+--------------------+\n",
      "|file:/home/shreya...|file:/home/shreya...|(20,[0,1,2,3,4,5,...|\n",
      "|file:/home/shreya...|file:/home/shreya...|(20,[0,1,2,3,4,5,...|\n",
      "|file:/home/shreya...|file:/home/shreya...|(20,[0,1,2,3,4,5,...|\n",
      "|file:/home/shreya...|file:/home/shreya...|(20,[0,1,2,3,4,5,...|\n",
      "|file:/home/shreya...|file:/home/shreya...|(20,[0,1,2,3,4,5,...|\n",
      "+--------------------+--------------------+--------------------+\n",
      "only showing top 5 rows\n",
      "\n",
      "Test Error = 0.455224\n",
      "RandomForestClassificationModel (uid=RandomForestClassifier_4fcf8b790b902673167f) with 10 trees\n"
     ]
    }
   ],
   "source": [
    "from pyspark.ml import Pipeline\n",
    "from pyspark.ml.classification import RandomForestClassifier\n",
    "from pyspark.ml.feature import IndexToString, StringIndexer, VectorIndexer\n",
    "from pyspark.ml.evaluation import MulticlassClassificationEvaluator\n",
    "labelIndexer = StringIndexer(inputCol=\"label\", outputCol=\"indexedLabel\").fit(final)\n",
    "labelConverter = IndexToString(inputCol=\"prediction\", outputCol=\"predictedLabel\",\n",
    "                               labels=labelIndexer.labels)\n",
    "\n",
    "# Automatically identify categorical features, and index them.\n",
    "# Set maxCategories so features with > 4 distinct values are treated as continuous.\n",
    "featureIndexer =\\\n",
    "    VectorIndexer(inputCol=\"features\", outputCol=\"indexedFeatures\", maxCategories=4).fit(final)\n",
    "\n",
    "\n",
    "# Train a RandomForest model.\n",
    "rf = RandomForestClassifier(labelCol=\"indexedLabel\", featuresCol=\"indexedFeatures\", numTrees=10)\n",
    "\n",
    "# Convert indexed labels back to original labels.\n",
    "# Chain indexers and forest in a Pipeline\n",
    "pipelinerf = Pipeline(stages=[labelIndexer, featureIndexer, rf, labelConverter])\n",
    "\n",
    "# Train model.  This also runs the indexers.\n",
    "rfmodel = pipelinerf.fit(train)\n",
    "\n",
    "# Make predictions.\n",
    "predictions = rfmodel.transform(test)\n",
    "\n",
    "# Select example rows to display.\n",
    "predictions.select(\"predictedLabel\", \"label\", \"features\").show(5)\n",
    "\n",
    "# Select (prediction, true label) and compute test error\n",
    "evaluator = MulticlassClassificationEvaluator(\n",
    "    labelCol=\"indexedLabel\", predictionCol=\"prediction\", metricName=\"accuracy\")\n",
    "accuracy = evaluator.evaluate(predictions)\n",
    "print(\"Test Error = %g\" % (1.0 - accuracy))\n",
    "\n",
    "rfModel = rfmodel.stages[2]\n",
    "print(rfModel)  # summary only"
   ]
  },
  {
   "cell_type": "markdown",
   "metadata": {},
   "source": [
    "### Naive Bayes"
   ]
  },
  {
   "cell_type": "code",
   "execution_count": 31,
   "metadata": {},
   "outputs": [
    {
     "name": "stdout",
     "output_type": "stream",
     "text": [
      "+--------------------+--------------------+\n",
      "|               label|      predictedLabel|\n",
      "+--------------------+--------------------+\n",
      "|file:/home/shreya...|file:/home/shreya...|\n",
      "|file:/home/shreya...|file:/home/shreya...|\n",
      "|file:/home/shreya...|file:/home/shreya...|\n",
      "|file:/home/shreya...|file:/home/shreya...|\n",
      "|file:/home/shreya...|file:/home/shreya...|\n",
      "|file:/home/shreya...|file:/home/shreya...|\n",
      "|file:/home/shreya...|file:/home/shreya...|\n",
      "|file:/home/shreya...|file:/home/shreya...|\n",
      "|file:/home/shreya...|file:/home/shreya...|\n",
      "|file:/home/shreya...|file:/home/shreya...|\n",
      "|file:/home/shreya...|file:/home/shreya...|\n",
      "|file:/home/shreya...|file:/home/shreya...|\n",
      "|file:/home/shreya...|file:/home/shreya...|\n",
      "|file:/home/shreya...|file:/home/shreya...|\n",
      "|file:/home/shreya...|file:/home/shreya...|\n",
      "|file:/home/shreya...|file:/home/shreya...|\n",
      "|file:/home/shreya...|file:/home/shreya...|\n",
      "|file:/home/shreya...|file:/home/shreya...|\n",
      "|file:/home/shreya...|file:/home/shreya...|\n",
      "|file:/home/shreya...|file:/home/shreya...|\n",
      "+--------------------+--------------------+\n",
      "only showing top 20 rows\n",
      "\n",
      "Test set accuracy = 0.44029850746268656\n"
     ]
    }
   ],
   "source": [
    "from pyspark.ml.classification import NaiveBayes\n",
    "from pyspark.ml.evaluation import MulticlassClassificationEvaluator\n",
    "#import LabeledPoint\n",
    "\n",
    "\n",
    "# create the trainer and set its parameters\n",
    "nb = NaiveBayes(smoothing=1.0, modelType=\"multinomial\",labelCol=\"categoryIndex\")\n",
    "\n",
    "# train the model\n",
    "\n",
    "# Chain indexers and forest in a Pipeline\n",
    "pipelinenb = Pipeline(stages=[labelIndexer, featureIndexer, nb, labelConverter])\n",
    "\n",
    "# Train model.  This also runs the indexers.\n",
    "nbmodel = pipelinenb.fit(train)\n",
    "\n",
    "\n",
    "# select example rows to display.\n",
    "predictions = nbmodel.transform(test)\n",
    "predictions.select(\"label\",\"predictedLabel\").show()\n",
    "\n",
    "# compute accuracy on the test set\n",
    "evaluator = MulticlassClassificationEvaluator(labelCol=\"categoryIndex\", predictionCol=\"prediction\",\n",
    "                                              metricName=\"accuracy\")\n",
    "accuracy = evaluator.evaluate(predictions)\n",
    "print(\"Test set accuracy = \" + str(accuracy))"
   ]
  },
  {
   "cell_type": "markdown",
   "metadata": {},
   "source": [
    "### Applying classifiers on the validation sets\n",
    "#### A validation set is being used. We used 'trump' as the topic for validation set which we though might get classified in Diplomacy and technology considering recent activities. We have got reasonably satisfactory results."
   ]
  },
  {
   "cell_type": "code",
   "execution_count": 32,
   "metadata": {
    "scrolled": false
   },
   "outputs": [
    {
     "name": "stdout",
     "output_type": "stream",
     "text": [
      "Random Forest\n",
      "+----------+--------------------+\n",
      "|prediction|      predictedLabel|\n",
      "+----------+--------------------+\n",
      "|       1.0|file:/home/shreya...|\n",
      "|       2.0|file:/home/shreya...|\n",
      "|       1.0|file:/home/shreya...|\n",
      "|       2.0|file:/home/shreya...|\n",
      "|       2.0|file:/home/shreya...|\n",
      "|       2.0|file:/home/shreya...|\n",
      "|       1.0|file:/home/shreya...|\n",
      "|       2.0|file:/home/shreya...|\n",
      "|       1.0|file:/home/shreya...|\n",
      "|       1.0|file:/home/shreya...|\n",
      "|       1.0|file:/home/shreya...|\n",
      "|       1.0|file:/home/shreya...|\n",
      "|       2.0|file:/home/shreya...|\n",
      "|       2.0|file:/home/shreya...|\n",
      "|       1.0|file:/home/shreya...|\n",
      "|       1.0|file:/home/shreya...|\n",
      "|       2.0|file:/home/shreya...|\n",
      "|       2.0|file:/home/shreya...|\n",
      "|       1.0|file:/home/shreya...|\n",
      "|       1.0|file:/home/shreya...|\n",
      "+----------+--------------------+\n",
      "only showing top 20 rows\n",
      "\n",
      "Naive Bayes\n",
      "+----------+--------------------+\n",
      "|prediction|      predictedLabel|\n",
      "+----------+--------------------+\n",
      "|       0.0|file:/home/shreya...|\n",
      "|       0.0|file:/home/shreya...|\n",
      "|       0.0|file:/home/shreya...|\n",
      "|       0.0|file:/home/shreya...|\n",
      "|       0.0|file:/home/shreya...|\n",
      "|       0.0|file:/home/shreya...|\n",
      "|       0.0|file:/home/shreya...|\n",
      "|       1.0|file:/home/shreya...|\n",
      "|       1.0|file:/home/shreya...|\n",
      "|       1.0|file:/home/shreya...|\n",
      "|       0.0|file:/home/shreya...|\n",
      "|       0.0|file:/home/shreya...|\n",
      "|       0.0|file:/home/shreya...|\n",
      "|       1.0|file:/home/shreya...|\n",
      "|       0.0|file:/home/shreya...|\n",
      "|       0.0|file:/home/shreya...|\n",
      "|       0.0|file:/home/shreya...|\n",
      "|       0.0|file:/home/shreya...|\n",
      "|       0.0|file:/home/shreya...|\n",
      "|       0.0|file:/home/shreya...|\n",
      "+----------+--------------------+\n",
      "only showing top 20 rows\n",
      "\n",
      "Logistic regression\n",
      "+----------+--------------------+\n",
      "|prediction|      predictedLabel|\n",
      "+----------+--------------------+\n",
      "|       0.0|file:/home/shreya...|\n",
      "|       1.0|file:/home/shreya...|\n",
      "|       0.0|file:/home/shreya...|\n",
      "|       0.0|file:/home/shreya...|\n",
      "|       1.0|file:/home/shreya...|\n",
      "|       0.0|file:/home/shreya...|\n",
      "|       0.0|file:/home/shreya...|\n",
      "|       1.0|file:/home/shreya...|\n",
      "|       1.0|file:/home/shreya...|\n",
      "|       1.0|file:/home/shreya...|\n",
      "|       0.0|file:/home/shreya...|\n",
      "|       1.0|file:/home/shreya...|\n",
      "|       1.0|file:/home/shreya...|\n",
      "|       1.0|file:/home/shreya...|\n",
      "|       0.0|file:/home/shreya...|\n",
      "|       1.0|file:/home/shreya...|\n",
      "|       1.0|file:/home/shreya...|\n",
      "|       1.0|file:/home/shreya...|\n",
      "|       1.0|file:/home/shreya...|\n",
      "|       1.0|file:/home/shreya...|\n",
      "+----------+--------------------+\n",
      "only showing top 20 rows\n",
      "\n"
     ]
    }
   ],
   "source": [
    "#Validation Sets:\n",
    "from pyspark.ml.feature import HashingTF, IDF, Tokenizer\n",
    "line=sc.wholeTextFiles(\"/home/shreyas/Lab3data/ValSet\")\n",
    "from pyspark.ml.feature import StopWordsRemover\n",
    "from pyspark.sql import Row\n",
    "from pyspark.ml.feature import Tokenizer, RegexTokenizer\n",
    "from pyspark.sql.functions import col, udf\n",
    "from pyspark.sql.types import IntegerType\n",
    "import re\n",
    "a=line.collect()\n",
    "\n",
    "rdd = sc.parallelize(a)\n",
    "people = rdd.map(lambda x: Row(sentence=(x[1])))\n",
    "schemaPeople = sqlContext.createDataFrame(people)\n",
    "\n",
    "regexTokenized = regexTokenizer.transform(schemaPeople)\n",
    "remover = StopWordsRemover(inputCol=\"words\", outputCol=\"filtered\")\n",
    "sw=remover.transform(regexTokenized)\n",
    "\n",
    "hashingTF = HashingTF(inputCol=\"filtered\", outputCol=\"rawFeatures\", numFeatures=20)\n",
    "featurizedData = hashingTF.transform(sw)\n",
    "\n",
    "idf = IDF(inputCol=\"rawFeatures\", outputCol=\"features\")\n",
    "idfModel = idf.fit(featurizedData)\n",
    "valData = idfModel.transform(featurizedData)\n",
    "#rescaledData.show(truncate=False)\n",
    "\n",
    "print(\"Random Forest\")\n",
    "predictionsvalrf = rfmodel.transform(valData)\n",
    "predictionsvalrf.select('prediction','predictedLabel').show()\n",
    "\n",
    "print(\"Naive Bayes\")\n",
    "predictionsvalnb = nbmodel.transform(valData)\n",
    "predictionsvalnb.select('prediction','predictedLabel').show()\n",
    "\n",
    "print(\"Logistic regression\")\n",
    "predictionsvallr = lrModel.transform(valData)\n",
    "predictionsvallr.select('prediction','predictedLabel').show()\n"
   ]
  }
 ],
 "metadata": {
  "kernelspec": {
   "display_name": "Python 3",
   "language": "python",
   "name": "python3"
  },
  "language_info": {
   "codemirror_mode": {
    "name": "ipython",
    "version": 3
   },
   "file_extension": ".py",
   "mimetype": "text/x-python",
   "name": "python",
   "nbconvert_exporter": "python",
   "pygments_lexer": "ipython3",
   "version": "3.6.3"
  }
 },
 "nbformat": 4,
 "nbformat_minor": 2
}
